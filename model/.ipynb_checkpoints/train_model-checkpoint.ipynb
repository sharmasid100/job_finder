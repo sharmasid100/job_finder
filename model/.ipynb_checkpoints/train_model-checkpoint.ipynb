{
 "cells": [
  {
   "cell_type": "code",
   "execution_count": 3,
   "id": "f98ecc74-cbd9-4226-87b8-2dea76fa5c73",
   "metadata": {},
   "outputs": [],
   "source": [
    "import pandas as pd"
   ]
  },
  {
   "cell_type": "code",
   "execution_count": 7,
   "id": "dfe87e85-0bca-4e7a-8ca0-8d429c81ba52",
   "metadata": {
    "scrolled": true
   },
   "outputs": [],
   "source": [
    "df = pd.read_csv(r'train_df.csv')"
   ]
  },
  {
   "cell_type": "code",
   "execution_count": 17,
   "id": "1f273a0a-b019-4041-8d4b-5433bbb1d491",
   "metadata": {},
   "outputs": [],
   "source": [
    "import pickle\n",
    "with open ('model.pkl' , 'rb') as f:\n",
    "    model = pickle.load(f)\n",
    "with open ('encoders.pkl' , 'rb') as f:\n",
    "    encoders = pickle.load(f)"
   ]
  },
  {
   "cell_type": "code",
   "execution_count": 38,
   "id": "726eb92d-6451-4f75-890f-e768133cbbbc",
   "metadata": {},
   "outputs": [],
   "source": [
    "def pre_process(df):\n",
    "    df['job_experience'] = df['job_experience'].fillna(0)\n",
    "    df['coding_interest_level'] = df['coding_interest_level'].fillna(\"Beginner\")\n",
    "    df = df.dropna()\n",
    "    label_encoding(df)\n",
    "    df['job_experience'] = df['job_experience'].apply(lambda x :convert_to_int(x))\n",
    "    one_hot_encoding(df)\n",
    "    reduce_attr(df)"
   ]
  },
  {
   "cell_type": "code",
   "execution_count": 40,
   "id": "88dbf3a3-0cc0-4aec-9633-808b1c693b01",
   "metadata": {},
   "outputs": [],
   "source": [
    "def label_encoding(df):\n",
    "    label_columns = [\n",
    "    'interest_area',\n",
    "    'coding_interest_level',\n",
    "    'preferred_domain',\n",
    "    'current_degree',\n",
    "    'current_status',\n",
    "    'job_type_preference',\n",
    "    'field_of_study'\n",
    "    ]\n",
    "\n",
    "    for col in label_columns:\n",
    "        le = encoders[col]\n",
    "        df[col] = le.transform(df[col])\n",
    "    "
   ]
  },
  {
   "cell_type": "code",
   "execution_count": 27,
   "id": "761726c0-efe9-484f-a926-a7e647e7b20f",
   "metadata": {},
   "outputs": [],
   "source": [
    "def convert_to_int(x):\n",
    "    if isinstance(x, int):\n",
    "        return x\n",
    "    elif isinstance(x, str) and x:  # check if it's a non-empty string\n",
    "        return int(x[0]) if x[0].isdigit() else None #return the 1st char if it is a digit \n",
    "    else:\n",
    "        return None"
   ]
  },
  {
   "cell_type": "code",
   "execution_count": 31,
   "id": "919a47d5-b17f-4019-9ba8-eddba10f59d5",
   "metadata": {},
   "outputs": [],
   "source": [
    "def to_array_from_string(x):\n",
    "    return set([elem.strip().lower() for elem in x.split(',') if elem.strip()])\n",
    "\n"
   ]
  },
  {
   "cell_type": "code",
   "execution_count": 36,
   "id": "b054679f-e4c9-4347-aba1-1aa82d1fdea5",
   "metadata": {},
   "outputs": [],
   "source": [
    "def one_hot_encoding(df):\n",
    "    #extracts elements from the string and stores as a set\n",
    "    df['known_languages'] = df['known_languages'].apply(lambda x : to_array_from_string(x))\n",
    "    df['frameworks_known'] = df[\"frameworks_known\"].apply(lambda x : to_array_from_string(x))\n",
    "    \n",
    "    #attributes for known language \n",
    "    df['python'] = 0\n",
    "    df['c'] = 0\n",
    "    df['c++'] = 0\n",
    "    df['sql'] = 0\n",
    "    df['java'] = 0\n",
    "    df['javascript'] = 0\n",
    "    df['r'] = 0\n",
    "    \n",
    "    #attributes for frameworks\n",
    "    df['react'] = 0\n",
    "    df['node'] = 0\n",
    "    df['flask'] = 0\n",
    "    df['django'] = 0\n",
    "    df['tensorflow'] = 0\n",
    "    df['pytorch'] = 0\n",
    "    df['scikit-learn'] = 0\n",
    "\n",
    "    #one hot encoding for all the languages known (manually)\n",
    "\n",
    "    all_languages = {\"python\", \"javascript\", \"java\", \"c++\", \"c\", \"r\", \"sql\"}\n",
    "    for lang in all_languages:\n",
    "        df[lang] = df['known_languages'].apply(lambda x: 1 if lang in x else 0)\n",
    "    \n",
    "    \n",
    "    #one hot encoding for all the frameworks known(manually)\n",
    "    all_frameworks = {\"react\" , \"node\" , \"flask\" , \"django\" , \"tensorflow\" , \"pytorch\" , \"scikit-learn\"}\n",
    "    for framework in all_frameworks:\n",
    "        df[framework] = df['frameworks_known'].apply(lambda x: 1 if framework in x else 0)"
   ]
  },
  {
   "cell_type": "code",
   "execution_count": null,
   "id": "eedabfcf-ed1c-4b73-9a96-ea4702ea6acb",
   "metadata": {},
   "outputs": [],
   "source": []
  }
 ],
 "metadata": {
  "kernelspec": {
   "display_name": "Python [conda env:base] *",
   "language": "python",
   "name": "conda-base-py"
  },
  "language_info": {
   "codemirror_mode": {
    "name": "ipython",
    "version": 3
   },
   "file_extension": ".py",
   "mimetype": "text/x-python",
   "name": "python",
   "nbconvert_exporter": "python",
   "pygments_lexer": "ipython3",
   "version": "3.12.7"
  }
 },
 "nbformat": 4,
 "nbformat_minor": 5
}
